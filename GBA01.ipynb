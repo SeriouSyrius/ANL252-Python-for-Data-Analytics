{
 "cells": [
  {
   "cell_type": "code",
   "execution_count": 1,
   "id": "ad9b2c82-2d83-4a7a-bbf5-eb1a2b9c12e3",
   "metadata": {},
   "outputs": [],
   "source": [
    "import pandas as pd\n",
    "import numpy as np\n",
    "import matplotlib.pyplot as plt"
   ]
  },
  {
   "cell_type": "code",
   "execution_count": 2,
   "id": "012882c3-bf6d-44a6-a6a3-86a42034aa63",
   "metadata": {},
   "outputs": [
    {
     "name": "stdout",
     "output_type": "stream",
     "text": [
      "        origin  destination    start      end    id        type subscriber  \\\n",
      "0        316.0        311.0  07:41.0  10:06.2  2473  Concession         No   \n",
      "1         74.0         70.0  07:52.9  19:47.1  2423     Regular         No   \n",
      "2         97.0        125.0  09:31.7  28:43.2  3455     Regular         No   \n",
      "3         11.0        323.0  14:37.2  37:16.4  2173      Ad-Hoc         No   \n",
      "4         17.0          8.0  15:33.4  58:56.5  1788     Regular        Yes   \n",
      "...        ...          ...      ...      ...   ...         ...        ...   \n",
      "670004    89.0         30.0  42:34.6  47:38.9   558     Regular         No   \n",
      "670005   113.0        110.0  42:37.6  44:43.6  1243     Regular         No   \n",
      "670006   109.0        121.0  42:44.0  44:31.7  2403     Regular         No   \n",
      "670007    36.0         76.0  42:52.9  59:46.5  2545     Regular         No   \n",
      "670008     NaN          NaN  42:54.1  54:18.6  3767     Regular         No   \n",
      "\n",
      "         yob age gender  \n",
      "0       1957  63   Male  \n",
      "1       1986  34   Male  \n",
      "2       1992  28   Male  \n",
      "3       1995  25   Male  \n",
      "4       1994  26   Male  \n",
      "...      ...  ..    ...  \n",
      "670004  1978  42   Male  \n",
      "670005  1988  32   Male  \n",
      "670006  1980  40   Male  \n",
      "670007  1977  43   Male  \n",
      "670008  1991  29   Male  \n",
      "\n",
      "[670009 rows x 10 columns]\n"
     ]
    }
   ],
   "source": [
    "#Here I will convert column \"yob\" and \"age\" to string as it contain different datatype (\"--\" exist in column \"yob\" and \"age\")\n",
    "\n",
    "data1 = pd.read_csv ('GBA_data.csv', dtype={'yob': 'str', 'age': 'str'})\n",
    "\n",
    "print(data1)"
   ]
  },
  {
   "cell_type": "code",
   "execution_count": 3,
   "id": "3e6184c0-1755-4772-8eeb-360747bc33b4",
   "metadata": {},
   "outputs": [
    {
     "data": {
      "text/plain": [
       "origin          0\n",
       "destination     0\n",
       "start           0\n",
       "end             0\n",
       "id              0\n",
       "type            0\n",
       "subscriber      0\n",
       "yob            10\n",
       "age            10\n",
       "gender          0\n",
       "dtype: int64"
      ]
     },
     "execution_count": 3,
     "metadata": {},
     "output_type": "execute_result"
    }
   ],
   "source": [
    "(data1 == '--').sum()"
   ]
  },
  {
   "cell_type": "code",
   "execution_count": 4,
   "id": "f4406d18-ef8a-4a72-bee2-a7596a74b611",
   "metadata": {},
   "outputs": [],
   "source": [
    "cleandata1 = data1.replace('-', np.nan)"
   ]
  },
  {
   "cell_type": "code",
   "execution_count": 9,
   "id": "87d17034-e8f6-4de5-81b2-41adb8c1231b",
   "metadata": {},
   "outputs": [],
   "source": [
    "cleandata2 = cleandata1.replace('--', np.nan)"
   ]
  },
  {
   "cell_type": "code",
   "execution_count": 12,
   "id": "56709da3-b10e-4f3c-976d-293a1e873772",
   "metadata": {},
   "outputs": [],
   "source": [
    "cleandata3 = cleandata2.replace('?', np.nan)"
   ]
  },
  {
   "cell_type": "code",
   "execution_count": 13,
   "id": "ba4a76c9-fc59-4426-87a2-4c425fb7e2e3",
   "metadata": {},
   "outputs": [
    {
     "data": {
      "text/plain": [
       "origin         504\n",
       "destination    504\n",
       "start            0\n",
       "end              0\n",
       "id               0\n",
       "type            10\n",
       "subscriber       0\n",
       "yob             10\n",
       "age             10\n",
       "gender           3\n",
       "dtype: int64"
      ]
     },
     "execution_count": 13,
     "metadata": {},
     "output_type": "execute_result"
    }
   ],
   "source": [
    "cleandata3.isnull().sum(axis = 0/1)"
   ]
  },
  {
   "cell_type": "code",
   "execution_count": null,
   "id": "8570b14a-bb37-4a73-80bc-bab2a08906d8",
   "metadata": {},
   "outputs": [],
   "source": []
  }
 ],
 "metadata": {
  "kernelspec": {
   "display_name": "Python 3 (ipykernel)",
   "language": "python",
   "name": "python3"
  },
  "language_info": {
   "codemirror_mode": {
    "name": "ipython",
    "version": 3
   },
   "file_extension": ".py",
   "mimetype": "text/x-python",
   "name": "python",
   "nbconvert_exporter": "python",
   "pygments_lexer": "ipython3",
   "version": "3.9.12"
  }
 },
 "nbformat": 4,
 "nbformat_minor": 5
}
